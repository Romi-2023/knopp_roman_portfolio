{
 "cells": [
  {
   "cell_type": "markdown",
   "id": "e612a8c4",
   "metadata": {},
   "source": [
    "# 🏃 Analiza wyników Półmaratonu Wrocław 2024\n",
    "**Autor:** Roman – *Aspiring Data Scientist & Python Streamlit Developer*\n",
    "\n",
    "Ten notebook prezentuje szybki EDA na publicznych danych z półmaratonu. \n",
    "Można go uruchomić lokalnie po sklonowaniu repozytorium.\n"
   ]
  },
  {
   "cell_type": "code",
   "execution_count": null,
   "id": "fa81cb70",
   "metadata": {},
   "outputs": [],
   "source": [
    "# Importy\n",
    "import pandas as pd\n",
    "import numpy as np\n",
    "import matplotlib.pyplot as plt\n",
    "\n",
    "plt.rcParams[\"figure.figsize\"] = (10,6)\n",
    "plt.rcParams[\"axes.grid\"] = True\n",
    "\n",
    "# Wczytanie danych (ścieżka relatywna do repozytorium)\n",
    "df = pd.read_csv(\"data/halfmarathon_wroclaw_2024__final.csv\", sep=\";\")\n",
    "df.head()"
   ]
  },
  {
   "cell_type": "code",
   "execution_count": null,
   "id": "15d00faa",
   "metadata": {},
   "outputs": [],
   "source": [
    "# Przygotowanie czasu w minutach\n",
    "df['Czas'] = pd.to_datetime(df['Czas'], format='%H:%M:%S', errors='coerce').dt.time\n",
    "df['Czas_min'] = df['Czas'].apply(lambda x: x.hour * 60 + x.minute + x.second/60 if pd.notnull(x) else np.nan)\n",
    "\n",
    "# Metryki\n",
    "total = len(df)\n",
    "men = int((df['Płeć'] == 'M').sum())\n",
    "women = int((df['Płeć'] == 'K').sum())\n",
    "\n",
    "print(f\"Liczba zawodników: {total}\\nMężczyźni: {men}\\nKobiety: {women}\")"
   ]
  },
  {
   "cell_type": "code",
   "execution_count": null,
   "id": "fc8a271b",
   "metadata": {},
   "outputs": [],
   "source": [
    "# Top 10 krajów\n",
    "ax = df['Kraj'].value_counts().head(10).plot(kind='bar')\n",
    "ax.set_title('Top 10 krajów uczestników'); ax.set_xlabel('Kraj'); ax.set_ylabel('Liczba zawodników')\n",
    "plt.tight_layout(); plt.show()"
   ]
  },
  {
   "cell_type": "code",
   "execution_count": null,
   "id": "9e55fd17",
   "metadata": {},
   "outputs": [],
   "source": [
    "# Histogram czasów\n",
    "df['Czas_min'].dropna().hist(bins=30)\n",
    "plt.title('Histogram czasu na mecie (minuty)'); plt.xlabel('Czas [min]'); plt.ylabel('Liczba zawodników')\n",
    "plt.tight_layout(); plt.show()"
   ]
  },
  {
   "cell_type": "code",
   "execution_count": null,
   "id": "528d4515",
   "metadata": {},
   "outputs": [],
   "source": [
    "# Top 5 zawodników\n",
    "cols = ['Miejsce','Numer startowy','Imię','Nazwisko','Miasto','Kraj','Czas_min']\n",
    "df.sort_values('Miejsce')[cols].head(5)"
   ]
  },
  {
   "cell_type": "markdown",
   "id": "01d73a69",
   "metadata": {},
   "source": [
    "---\n",
    "**Uwaga:** Jeżeli notebook jest uruchamiany w innym miejscu, upewnij się, że plik CSV znajduje się pod ścieżką `data/halfmarathon_wroclaw_2024__final.csv` lub zaktualizuj ścieżkę.\n"
   ]
  }
 ],
 "metadata": {
  "kernelspec": {
   "display_name": "Python 3",
   "name": "python3"
  }
 },
 "nbformat": 4,
 "nbformat_minor": 5
}
